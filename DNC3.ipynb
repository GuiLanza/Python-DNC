{
  "nbformat": 4,
  "nbformat_minor": 0,
  "metadata": {
    "colab": {
      "provenance": [],
      "authorship_tag": "ABX9TyOg6eYW4hiIx7pcpoXBqT9T",
      "include_colab_link": true
    },
    "kernelspec": {
      "name": "python3",
      "display_name": "Python 3"
    },
    "language_info": {
      "name": "python"
    }
  },
  "cells": [
    {
      "cell_type": "markdown",
      "metadata": {
        "id": "view-in-github",
        "colab_type": "text"
      },
      "source": [
        "<a href=\"https://colab.research.google.com/github/GuiLanza/Python-DNC/blob/main/DNC3.ipynb\" target=\"_parent\"><img src=\"https://colab.research.google.com/assets/colab-badge.svg\" alt=\"Open In Colab\"/></a>"
      ]
    },
    {
      "cell_type": "code",
      "execution_count": null,
      "metadata": {
        "colab": {
          "base_uri": "https://localhost:8080/"
        },
        "id": "daQ_1cFzAXfL",
        "outputId": "82bec1c1-1f08-4121-86a5-1fec8d6c64b6"
      },
      "outputs": [
        {
          "output_type": "stream",
          "name": "stdout",
          "text": [
            "Requirement already satisfied: pandas in /usr/local/lib/python3.10/dist-packages (1.5.3)\n",
            "Requirement already satisfied: python-dateutil>=2.8.1 in /usr/local/lib/python3.10/dist-packages (from pandas) (2.8.2)\n",
            "Requirement already satisfied: pytz>=2020.1 in /usr/local/lib/python3.10/dist-packages (from pandas) (2022.7.1)\n",
            "Requirement already satisfied: numpy>=1.21.0 in /usr/local/lib/python3.10/dist-packages (from pandas) (1.22.4)\n",
            "Requirement already satisfied: six>=1.5 in /usr/local/lib/python3.10/dist-packages (from python-dateutil>=2.8.1->pandas) (1.16.0)\n"
          ]
        }
      ],
      "source": [
        "!pip install pandas\n",
        "\n",
        "import pandas as pd\n",
        "import matplotlib.pyplot as plt\n",
        "from sklearn.model_selection import train_test_split, GridSearchCV\n",
        "from sklearn.linear_model import LinearRegression\n",
        "from sklearn.model_selection import train_test_split\n",
        "from sklearn.linear_model import LogisticRegression\n",
        "from sklearn.preprocessing import LabelEncoder, MinMaxScaler\n",
        "from sklearn.metrics import confusion_matrix, accuracy_score, precision_score, recall_score, f1_score, ConfusionMatrixDisplay\n",
        "from sklearn.ensemble import RandomForestClassifier\n",
        "\n",
        "\n"
      ]
    },
    {
      "cell_type": "code",
      "source": [
        "caminho_arquivo = '/content/streaming_data.csv'\n",
        "\n",
        "codificacao = 'latin-1'  # Ou outra codificação que seja adequada para o arquivo\n",
        "\n",
        "# Abrir o arquivo CSV usando a codificação especificada\n",
        "dataframe = pd.read_csv(caminho_arquivo, encoding=codificacao)\n",
        "\n",
        "# Realizar operações com o dataframe\n",
        "# Por exemplo, exibir as primeiras linhas do dataframe\n",
        "print(dataframe.head())"
      ],
      "metadata": {
        "colab": {
          "base_uri": "https://localhost:8080/"
        },
        "id": "3E1yO7YuAsRX",
        "outputId": "de291ecf-bb63-4b03-fb5c-72b255baad0f"
      },
      "execution_count": null,
      "outputs": [
        {
          "output_type": "stream",
          "name": "stdout",
          "text": [
            "    Age  Gender  Time_on_platform  Devices_connected Subscription_type  \\\n",
            "0  49.0    Male            4700.0                3.0             Basic   \n",
            "1  69.0  Female            6107.0                2.0          Standard   \n",
            "2  44.0    Male            6374.0                3.0           Premium   \n",
            "3  26.0    Male               NaN                5.0             Basic   \n",
            "4  18.0     NaN            1948.0                3.0             Basic   \n",
            "\n",
            "   Num_streaming_services  Num_active_profiles  Avg_rating  Churned  \\\n",
            "0                     NaN                    3         NaN      0.0   \n",
            "1                     NaN                    1        2.14      0.0   \n",
            "2                     1.0                    1        1.91      1.0   \n",
            "3                     NaN                    2         NaN      NaN   \n",
            "4                     NaN                    3        3.88      0.0   \n",
            "\n",
            "                                User_id  \n",
            "0  a271aa56-bcfc-4f0a-91f7-b773de6b86a4  \n",
            "1  fe14b048-770b-4619-8ec6-485b0969ae31  \n",
            "2  0283dffd-6684-4a05-9c6f-c02098a6849d  \n",
            "3  c316f2f5-3403-4a0a-82c2-c98e4b3379d2  \n",
            "4  14879bcb-1977-4ad8-a7f9-6aa9bf7b872f  \n"
          ]
        }
      ]
    },
    {
      "cell_type": "code",
      "source": [
        "from IPython.display import display\n",
        "\n",
        "# Exibe toda a tabela\n",
        "display(dataframe)"
      ],
      "metadata": {
        "colab": {
          "base_uri": "https://localhost:8080/",
          "height": 424
        },
        "id": "nAeXdiaaBJFW",
        "outputId": "198ce4f2-1bbc-47ca-cc50-825cc84c709b"
      },
      "execution_count": null,
      "outputs": [
        {
          "output_type": "display_data",
          "data": {
            "text/plain": [
              "        Age  Gender  Time_on_platform  Devices_connected Subscription_type  \\\n",
              "0      49.0    Male            4700.0                3.0             Basic   \n",
              "1      69.0  Female            6107.0                2.0          Standard   \n",
              "2      44.0    Male            6374.0                3.0           Premium   \n",
              "3      26.0    Male               NaN                5.0             Basic   \n",
              "4      18.0     NaN            1948.0                3.0             Basic   \n",
              "...     ...     ...               ...                ...               ...   \n",
              "77879  45.0    Male               NaN                NaN             Basic   \n",
              "77880  47.0  Female            6176.0                NaN           Premium   \n",
              "77881  64.0  Female               NaN                5.0           Premium   \n",
              "77882  58.0    Male            1314.0                5.0          Standard   \n",
              "77883  68.0  Female            7078.0                1.0          Standard   \n",
              "\n",
              "       Num_streaming_services  Num_active_profiles  Avg_rating  Churned  \\\n",
              "0                         NaN                    3         NaN      0.0   \n",
              "1                         NaN                    1        2.14      0.0   \n",
              "2                         1.0                    1        1.91      1.0   \n",
              "3                         NaN                    2         NaN      NaN   \n",
              "4                         NaN                    3        3.88      0.0   \n",
              "...                       ...                  ...         ...      ...   \n",
              "77879                     NaN                    5        2.20      0.0   \n",
              "77880                     NaN                    2        4.54      0.0   \n",
              "77881                     NaN                    1        4.34      1.0   \n",
              "77882                     NaN                    4         NaN      0.0   \n",
              "77883                     NaN                    5        1.68      0.0   \n",
              "\n",
              "                                    User_id  \n",
              "0      a271aa56-bcfc-4f0a-91f7-b773de6b86a4  \n",
              "1      fe14b048-770b-4619-8ec6-485b0969ae31  \n",
              "2      0283dffd-6684-4a05-9c6f-c02098a6849d  \n",
              "3      c316f2f5-3403-4a0a-82c2-c98e4b3379d2  \n",
              "4      14879bcb-1977-4ad8-a7f9-6aa9bf7b872f  \n",
              "...                                     ...  \n",
              "77879  6b51fe0d-d4a1-41ed-a55c-d05f5c961e3c  \n",
              "77880  59d70167-6be0-474c-b71e-14153205b44f  \n",
              "77881  a7d5ed26-78a4-4e70-bd04-0fec883e56aa  \n",
              "77882  472e9e70-87ca-4c5e-bfee-fa9f42b54f51  \n",
              "77883  f8450244-52b1-4303-9275-00a1d4fbc331  \n",
              "\n",
              "[77884 rows x 10 columns]"
            ],
            "text/html": [
              "\n",
              "\n",
              "  <div id=\"df-11aff40c-06df-49df-8daa-92d545e4a10c\">\n",
              "    <div class=\"colab-df-container\">\n",
              "      <div>\n",
              "<style scoped>\n",
              "    .dataframe tbody tr th:only-of-type {\n",
              "        vertical-align: middle;\n",
              "    }\n",
              "\n",
              "    .dataframe tbody tr th {\n",
              "        vertical-align: top;\n",
              "    }\n",
              "\n",
              "    .dataframe thead th {\n",
              "        text-align: right;\n",
              "    }\n",
              "</style>\n",
              "<table border=\"1\" class=\"dataframe\">\n",
              "  <thead>\n",
              "    <tr style=\"text-align: right;\">\n",
              "      <th></th>\n",
              "      <th>Age</th>\n",
              "      <th>Gender</th>\n",
              "      <th>Time_on_platform</th>\n",
              "      <th>Devices_connected</th>\n",
              "      <th>Subscription_type</th>\n",
              "      <th>Num_streaming_services</th>\n",
              "      <th>Num_active_profiles</th>\n",
              "      <th>Avg_rating</th>\n",
              "      <th>Churned</th>\n",
              "      <th>User_id</th>\n",
              "    </tr>\n",
              "  </thead>\n",
              "  <tbody>\n",
              "    <tr>\n",
              "      <th>0</th>\n",
              "      <td>49.0</td>\n",
              "      <td>Male</td>\n",
              "      <td>4700.0</td>\n",
              "      <td>3.0</td>\n",
              "      <td>Basic</td>\n",
              "      <td>NaN</td>\n",
              "      <td>3</td>\n",
              "      <td>NaN</td>\n",
              "      <td>0.0</td>\n",
              "      <td>a271aa56-bcfc-4f0a-91f7-b773de6b86a4</td>\n",
              "    </tr>\n",
              "    <tr>\n",
              "      <th>1</th>\n",
              "      <td>69.0</td>\n",
              "      <td>Female</td>\n",
              "      <td>6107.0</td>\n",
              "      <td>2.0</td>\n",
              "      <td>Standard</td>\n",
              "      <td>NaN</td>\n",
              "      <td>1</td>\n",
              "      <td>2.14</td>\n",
              "      <td>0.0</td>\n",
              "      <td>fe14b048-770b-4619-8ec6-485b0969ae31</td>\n",
              "    </tr>\n",
              "    <tr>\n",
              "      <th>2</th>\n",
              "      <td>44.0</td>\n",
              "      <td>Male</td>\n",
              "      <td>6374.0</td>\n",
              "      <td>3.0</td>\n",
              "      <td>Premium</td>\n",
              "      <td>1.0</td>\n",
              "      <td>1</td>\n",
              "      <td>1.91</td>\n",
              "      <td>1.0</td>\n",
              "      <td>0283dffd-6684-4a05-9c6f-c02098a6849d</td>\n",
              "    </tr>\n",
              "    <tr>\n",
              "      <th>3</th>\n",
              "      <td>26.0</td>\n",
              "      <td>Male</td>\n",
              "      <td>NaN</td>\n",
              "      <td>5.0</td>\n",
              "      <td>Basic</td>\n",
              "      <td>NaN</td>\n",
              "      <td>2</td>\n",
              "      <td>NaN</td>\n",
              "      <td>NaN</td>\n",
              "      <td>c316f2f5-3403-4a0a-82c2-c98e4b3379d2</td>\n",
              "    </tr>\n",
              "    <tr>\n",
              "      <th>4</th>\n",
              "      <td>18.0</td>\n",
              "      <td>NaN</td>\n",
              "      <td>1948.0</td>\n",
              "      <td>3.0</td>\n",
              "      <td>Basic</td>\n",
              "      <td>NaN</td>\n",
              "      <td>3</td>\n",
              "      <td>3.88</td>\n",
              "      <td>0.0</td>\n",
              "      <td>14879bcb-1977-4ad8-a7f9-6aa9bf7b872f</td>\n",
              "    </tr>\n",
              "    <tr>\n",
              "      <th>...</th>\n",
              "      <td>...</td>\n",
              "      <td>...</td>\n",
              "      <td>...</td>\n",
              "      <td>...</td>\n",
              "      <td>...</td>\n",
              "      <td>...</td>\n",
              "      <td>...</td>\n",
              "      <td>...</td>\n",
              "      <td>...</td>\n",
              "      <td>...</td>\n",
              "    </tr>\n",
              "    <tr>\n",
              "      <th>77879</th>\n",
              "      <td>45.0</td>\n",
              "      <td>Male</td>\n",
              "      <td>NaN</td>\n",
              "      <td>NaN</td>\n",
              "      <td>Basic</td>\n",
              "      <td>NaN</td>\n",
              "      <td>5</td>\n",
              "      <td>2.20</td>\n",
              "      <td>0.0</td>\n",
              "      <td>6b51fe0d-d4a1-41ed-a55c-d05f5c961e3c</td>\n",
              "    </tr>\n",
              "    <tr>\n",
              "      <th>77880</th>\n",
              "      <td>47.0</td>\n",
              "      <td>Female</td>\n",
              "      <td>6176.0</td>\n",
              "      <td>NaN</td>\n",
              "      <td>Premium</td>\n",
              "      <td>NaN</td>\n",
              "      <td>2</td>\n",
              "      <td>4.54</td>\n",
              "      <td>0.0</td>\n",
              "      <td>59d70167-6be0-474c-b71e-14153205b44f</td>\n",
              "    </tr>\n",
              "    <tr>\n",
              "      <th>77881</th>\n",
              "      <td>64.0</td>\n",
              "      <td>Female</td>\n",
              "      <td>NaN</td>\n",
              "      <td>5.0</td>\n",
              "      <td>Premium</td>\n",
              "      <td>NaN</td>\n",
              "      <td>1</td>\n",
              "      <td>4.34</td>\n",
              "      <td>1.0</td>\n",
              "      <td>a7d5ed26-78a4-4e70-bd04-0fec883e56aa</td>\n",
              "    </tr>\n",
              "    <tr>\n",
              "      <th>77882</th>\n",
              "      <td>58.0</td>\n",
              "      <td>Male</td>\n",
              "      <td>1314.0</td>\n",
              "      <td>5.0</td>\n",
              "      <td>Standard</td>\n",
              "      <td>NaN</td>\n",
              "      <td>4</td>\n",
              "      <td>NaN</td>\n",
              "      <td>0.0</td>\n",
              "      <td>472e9e70-87ca-4c5e-bfee-fa9f42b54f51</td>\n",
              "    </tr>\n",
              "    <tr>\n",
              "      <th>77883</th>\n",
              "      <td>68.0</td>\n",
              "      <td>Female</td>\n",
              "      <td>7078.0</td>\n",
              "      <td>1.0</td>\n",
              "      <td>Standard</td>\n",
              "      <td>NaN</td>\n",
              "      <td>5</td>\n",
              "      <td>1.68</td>\n",
              "      <td>0.0</td>\n",
              "      <td>f8450244-52b1-4303-9275-00a1d4fbc331</td>\n",
              "    </tr>\n",
              "  </tbody>\n",
              "</table>\n",
              "<p>77884 rows × 10 columns</p>\n",
              "</div>\n",
              "      <button class=\"colab-df-convert\" onclick=\"convertToInteractive('df-11aff40c-06df-49df-8daa-92d545e4a10c')\"\n",
              "              title=\"Convert this dataframe to an interactive table.\"\n",
              "              style=\"display:none;\">\n",
              "\n",
              "  <svg xmlns=\"http://www.w3.org/2000/svg\" height=\"24px\"viewBox=\"0 0 24 24\"\n",
              "       width=\"24px\">\n",
              "    <path d=\"M0 0h24v24H0V0z\" fill=\"none\"/>\n",
              "    <path d=\"M18.56 5.44l.94 2.06.94-2.06 2.06-.94-2.06-.94-.94-2.06-.94 2.06-2.06.94zm-11 1L8.5 8.5l.94-2.06 2.06-.94-2.06-.94L8.5 2.5l-.94 2.06-2.06.94zm10 10l.94 2.06.94-2.06 2.06-.94-2.06-.94-.94-2.06-.94 2.06-2.06.94z\"/><path d=\"M17.41 7.96l-1.37-1.37c-.4-.4-.92-.59-1.43-.59-.52 0-1.04.2-1.43.59L10.3 9.45l-7.72 7.72c-.78.78-.78 2.05 0 2.83L4 21.41c.39.39.9.59 1.41.59.51 0 1.02-.2 1.41-.59l7.78-7.78 2.81-2.81c.8-.78.8-2.07 0-2.86zM5.41 20L4 18.59l7.72-7.72 1.47 1.35L5.41 20z\"/>\n",
              "  </svg>\n",
              "      </button>\n",
              "\n",
              "\n",
              "\n",
              "    <div id=\"df-b3d330e5-e098-45e4-9606-5e81ebb9cb80\">\n",
              "      <button class=\"colab-df-quickchart\" onclick=\"quickchart('df-b3d330e5-e098-45e4-9606-5e81ebb9cb80')\"\n",
              "              title=\"Suggest charts.\"\n",
              "              style=\"display:none;\">\n",
              "\n",
              "<svg xmlns=\"http://www.w3.org/2000/svg\" height=\"24px\"viewBox=\"0 0 24 24\"\n",
              "     width=\"24px\">\n",
              "    <g>\n",
              "        <path d=\"M19 3H5c-1.1 0-2 .9-2 2v14c0 1.1.9 2 2 2h14c1.1 0 2-.9 2-2V5c0-1.1-.9-2-2-2zM9 17H7v-7h2v7zm4 0h-2V7h2v10zm4 0h-2v-4h2v4z\"/>\n",
              "    </g>\n",
              "</svg>\n",
              "      </button>\n",
              "    </div>\n",
              "\n",
              "<style>\n",
              "  .colab-df-quickchart {\n",
              "    background-color: #E8F0FE;\n",
              "    border: none;\n",
              "    border-radius: 50%;\n",
              "    cursor: pointer;\n",
              "    display: none;\n",
              "    fill: #1967D2;\n",
              "    height: 32px;\n",
              "    padding: 0 0 0 0;\n",
              "    width: 32px;\n",
              "  }\n",
              "\n",
              "  .colab-df-quickchart:hover {\n",
              "    background-color: #E2EBFA;\n",
              "    box-shadow: 0px 1px 2px rgba(60, 64, 67, 0.3), 0px 1px 3px 1px rgba(60, 64, 67, 0.15);\n",
              "    fill: #174EA6;\n",
              "  }\n",
              "\n",
              "  [theme=dark] .colab-df-quickchart {\n",
              "    background-color: #3B4455;\n",
              "    fill: #D2E3FC;\n",
              "  }\n",
              "\n",
              "  [theme=dark] .colab-df-quickchart:hover {\n",
              "    background-color: #434B5C;\n",
              "    box-shadow: 0px 1px 3px 1px rgba(0, 0, 0, 0.15);\n",
              "    filter: drop-shadow(0px 1px 2px rgba(0, 0, 0, 0.3));\n",
              "    fill: #FFFFFF;\n",
              "  }\n",
              "</style>\n",
              "\n",
              "    <script>\n",
              "      async function quickchart(key) {\n",
              "        const containerElement = document.querySelector('#' + key);\n",
              "        const charts = await google.colab.kernel.invokeFunction(\n",
              "            'suggestCharts', [key], {});\n",
              "      }\n",
              "    </script>\n",
              "\n",
              "      <script>\n",
              "\n",
              "function displayQuickchartButton(domScope) {\n",
              "  let quickchartButtonEl =\n",
              "    domScope.querySelector('#df-b3d330e5-e098-45e4-9606-5e81ebb9cb80 button.colab-df-quickchart');\n",
              "  quickchartButtonEl.style.display =\n",
              "    google.colab.kernel.accessAllowed ? 'block' : 'none';\n",
              "}\n",
              "\n",
              "        displayQuickchartButton(document);\n",
              "      </script>\n",
              "      <style>\n",
              "    .colab-df-container {\n",
              "      display:flex;\n",
              "      flex-wrap:wrap;\n",
              "      gap: 12px;\n",
              "    }\n",
              "\n",
              "    .colab-df-convert {\n",
              "      background-color: #E8F0FE;\n",
              "      border: none;\n",
              "      border-radius: 50%;\n",
              "      cursor: pointer;\n",
              "      display: none;\n",
              "      fill: #1967D2;\n",
              "      height: 32px;\n",
              "      padding: 0 0 0 0;\n",
              "      width: 32px;\n",
              "    }\n",
              "\n",
              "    .colab-df-convert:hover {\n",
              "      background-color: #E2EBFA;\n",
              "      box-shadow: 0px 1px 2px rgba(60, 64, 67, 0.3), 0px 1px 3px 1px rgba(60, 64, 67, 0.15);\n",
              "      fill: #174EA6;\n",
              "    }\n",
              "\n",
              "    [theme=dark] .colab-df-convert {\n",
              "      background-color: #3B4455;\n",
              "      fill: #D2E3FC;\n",
              "    }\n",
              "\n",
              "    [theme=dark] .colab-df-convert:hover {\n",
              "      background-color: #434B5C;\n",
              "      box-shadow: 0px 1px 3px 1px rgba(0, 0, 0, 0.15);\n",
              "      filter: drop-shadow(0px 1px 2px rgba(0, 0, 0, 0.3));\n",
              "      fill: #FFFFFF;\n",
              "    }\n",
              "  </style>\n",
              "\n",
              "      <script>\n",
              "        const buttonEl =\n",
              "          document.querySelector('#df-11aff40c-06df-49df-8daa-92d545e4a10c button.colab-df-convert');\n",
              "        buttonEl.style.display =\n",
              "          google.colab.kernel.accessAllowed ? 'block' : 'none';\n",
              "\n",
              "        async function convertToInteractive(key) {\n",
              "          const element = document.querySelector('#df-11aff40c-06df-49df-8daa-92d545e4a10c');\n",
              "          const dataTable =\n",
              "            await google.colab.kernel.invokeFunction('convertToInteractive',\n",
              "                                                     [key], {});\n",
              "          if (!dataTable) return;\n",
              "\n",
              "          const docLinkHtml = 'Like what you see? Visit the ' +\n",
              "            '<a target=\"_blank\" href=https://colab.research.google.com/notebooks/data_table.ipynb>data table notebook</a>'\n",
              "            + ' to learn more about interactive tables.';\n",
              "          element.innerHTML = '';\n",
              "          dataTable['output_type'] = 'display_data';\n",
              "          await google.colab.output.renderOutput(dataTable, element);\n",
              "          const docLink = document.createElement('div');\n",
              "          docLink.innerHTML = docLinkHtml;\n",
              "          element.appendChild(docLink);\n",
              "        }\n",
              "      </script>\n",
              "    </div>\n",
              "  </div>\n"
            ]
          },
          "metadata": {}
        }
      ]
    },
    {
      "cell_type": "code",
      "source": [
        "dataframe.dtypes"
      ],
      "metadata": {
        "colab": {
          "base_uri": "https://localhost:8080/"
        },
        "id": "5nLuzApOBP4t",
        "outputId": "d47e0536-6aad-4cee-89d9-8b73a26602a2"
      },
      "execution_count": null,
      "outputs": [
        {
          "output_type": "execute_result",
          "data": {
            "text/plain": [
              "Age                       float64\n",
              "Gender                     object\n",
              "Time_on_platform          float64\n",
              "Devices_connected         float64\n",
              "Subscription_type          object\n",
              "Num_streaming_services    float64\n",
              "Num_active_profiles         int64\n",
              "Avg_rating                float64\n",
              "Churned                   float64\n",
              "User_id                    object\n",
              "dtype: object"
            ]
          },
          "metadata": {},
          "execution_count": 22
        }
      ]
    },
    {
      "cell_type": "code",
      "source": [
        "descricao_estatistica = dataframe.describe()"
      ],
      "metadata": {
        "id": "P04vp6syBsik"
      },
      "execution_count": null,
      "outputs": []
    },
    {
      "cell_type": "code",
      "source": [
        "valores_faltantes = dataframe.isna().sum()\n",
        "\n",
        "print(valores_faltantes)"
      ],
      "metadata": {
        "colab": {
          "base_uri": "https://localhost:8080/"
        },
        "id": "PvXGdTRAByZt",
        "outputId": "a697dc40-3282-4252-ae22-221a16b45c78"
      },
      "execution_count": null,
      "outputs": [
        {
          "output_type": "stream",
          "name": "stdout",
          "text": [
            "Age                       11277\n",
            "Gender                    14516\n",
            "Time_on_platform          21420\n",
            "Devices_connected         25188\n",
            "Subscription_type         25221\n",
            "Num_streaming_services    68312\n",
            "Num_active_profiles           0\n",
            "Avg_rating                17270\n",
            "Churned                   16736\n",
            "User_id                       0\n",
            "dtype: int64\n"
          ]
        }
      ]
    },
    {
      "cell_type": "code",
      "source": [
        "# 1. Substituir valores \"NaN\" por 0 nas colunas especificadas\n",
        "colunas_substituir_nan_por_zero = [\"Time_on_platform\", \"Num_streaming_services\", \"Churned\", \"Avg_rating\", \"Devices_connected\"]\n",
        "dataframe[colunas_substituir_nan_por_zero] = dataframe[colunas_substituir_nan_por_zero].fillna(0)\n"
      ],
      "metadata": {
        "id": "wc0dHSkbCS8H"
      },
      "execution_count": null,
      "outputs": []
    },
    {
      "cell_type": "code",
      "source": [
        "# Verificar se a substituição foi realizada corretamente\n",
        "print(dataframe.isna().sum())"
      ],
      "metadata": {
        "colab": {
          "base_uri": "https://localhost:8080/"
        },
        "id": "PAaFaQ2GCeNR",
        "outputId": "1f04a69a-dabb-44c3-95e5-d8b05cec5bfa"
      },
      "execution_count": null,
      "outputs": [
        {
          "output_type": "stream",
          "name": "stdout",
          "text": [
            "Age                       11277\n",
            "Gender                    14516\n",
            "Time_on_platform              0\n",
            "Devices_connected             0\n",
            "Subscription_type         25221\n",
            "Num_streaming_services        0\n",
            "Num_active_profiles           0\n",
            "Avg_rating                    0\n",
            "Churned                       0\n",
            "User_id                       0\n",
            "dtype: int64\n"
          ]
        }
      ]
    },
    {
      "cell_type": "code",
      "source": [
        "# 2. Dropar linhas nulas nas colunas Gender, Subscription_type e Age\n",
        "colunas_dropar_nulas = [\"Gender\", \"Subscription_type\", \"Age\"]\n",
        "dataframe = dataframe.dropna(subset=colunas_dropar_nulas)\n",
        "\n",
        "# Verificar se as linhas nulas foram removidas corretamente\n",
        "print(dataframe.isna().sum())"
      ],
      "metadata": {
        "colab": {
          "base_uri": "https://localhost:8080/"
        },
        "id": "9OoblBcTCm7m",
        "outputId": "15f4f30f-878b-44c9-d504-ac43d90aa161"
      },
      "execution_count": null,
      "outputs": [
        {
          "output_type": "stream",
          "name": "stdout",
          "text": [
            "Age                       0\n",
            "Gender                    0\n",
            "Time_on_platform          0\n",
            "Devices_connected         0\n",
            "Subscription_type         0\n",
            "Num_streaming_services    0\n",
            "Num_active_profiles       0\n",
            "Avg_rating                0\n",
            "Churned                   0\n",
            "User_id                   0\n",
            "dtype: int64\n"
          ]
        }
      ]
    },
    {
      "cell_type": "code",
      "source": [
        "# 3. Transformar valores 0 e 1 da coluna \"Churned\" em \"No\" e \"Yes\"\n",
        "mapeamento_churned = {0: \"No\", 1: \"Yes\"}\n",
        "dataframe[\"Churned\"] = dataframe[\"Churned\"].map(mapeamento_churned)\n",
        "\n",
        "# Verificar a coluna \"Churned\" após a transformação\n",
        "print(dataframe[\"Churned\"].unique())"
      ],
      "metadata": {
        "colab": {
          "base_uri": "https://localhost:8080/"
        },
        "id": "DzfJv-KYCwZe",
        "outputId": "7ca9c111-d5ed-4d29-89d9-03980b965a3c"
      },
      "execution_count": null,
      "outputs": [
        {
          "output_type": "stream",
          "name": "stdout",
          "text": [
            "['No' 'Yes']\n"
          ]
        }
      ]
    },
    {
      "cell_type": "code",
      "source": [
        "# 4. Transformar valores floats em valores inteiros\n",
        "colunas_para_inteiro = [\"Age\",\"Time_on_platform\", \"Num_streaming_services\", \"Devices_connected\"]\n",
        "dataframe[colunas_para_inteiro] = dataframe[colunas_para_inteiro].astype(int)\n",
        "\n",
        "# Verificar os tipos de dados após a transformação\n",
        "print(dataframe.dtypes)"
      ],
      "metadata": {
        "colab": {
          "base_uri": "https://localhost:8080/"
        },
        "id": "XZowBefKC_SJ",
        "outputId": "2cf453cc-d57a-4afb-d54c-e8c1176114e1"
      },
      "execution_count": null,
      "outputs": [
        {
          "output_type": "stream",
          "name": "stdout",
          "text": [
            "Age                         int64\n",
            "Gender                     object\n",
            "Time_on_platform            int64\n",
            "Devices_connected           int64\n",
            "Subscription_type          object\n",
            "Num_streaming_services      int64\n",
            "Num_active_profiles         int64\n",
            "Avg_rating                float64\n",
            "Churned                    object\n",
            "User_id                    object\n",
            "dtype: object\n"
          ]
        }
      ]
    },
    {
      "cell_type": "code",
      "source": [
        "# a. Definir variáveis X e y para o modelo\n",
        "X = dataframe.drop(columns=['Churned'])\n",
        "y = dataframe['Churned']\n",
        "\n",
        "# Transformar as colunas categóricas usando get_dummies para criarmos variáveis dummy (one-hot encoding)\n",
        "X = pd.get_dummies(X)\n",
        "\n",
        "# Reduzir o tamanho do DataFrame para uma amostra menor\n",
        "X, _, y, _ = train_test_split(X, y, train_size=0.1, random_state=42)\n",
        "\n",
        "# b. Realizar a montagem do grid search com um número menor de combinações\n",
        "param_grid = {\n",
        "    'n_estimators': [50, 100],\n",
        "    'max_depth': [None, 10],\n",
        "    'min_samples_split': [2, 5],\n",
        "    'min_samples_leaf': [1, 2]\n",
        "}\n",
        "\n",
        "model = RandomForestClassifier(random_state=42)\n",
        "grid_search = GridSearchCV(model, param_grid, cv=3, n_jobs=-1)\n",
        "grid_search.fit(X, y)\n",
        "\n",
        "# c. Realizar o Tunning (ajuste fino)\n",
        "best_params = grid_search.best_estimator_.get_params()\n",
        "model_tuned = RandomForestClassifier(**best_params)\n",
        "model_tuned.fit(X, y)\n",
        "\n",
        "# d. Realizar a modelagem usando o Random Forest ajustado\n",
        "X_train, X_test, y_train, y_test = train_test_split(X, y, test_size=0.2, random_state=42)\n",
        "y_pred = model_tuned.predict(X_test)\n",
        "\n",
        "# Converter os rótulos das classes para 'No' e 'Yes'\n",
        "class_labels = {0: 'No', 1: 'Yes'}\n",
        "y_test_labels = y_test.map(class_labels)\n",
        "y_pred_labels = pd.Series(y_pred).map(class_labels)\n",
        "\n",
        "# Filtrar valores desconhecidos\n",
        "valid_labels = ['No', 'Yes']\n",
        "y_test_labels = y_test_labels[y_test_labels.isin(valid_labels)]\n",
        "y_pred_labels = y_pred_labels[y_pred_labels.isin(valid_labels)]\n",
        "\n",
        "# e. Verificar se há valores faltantes no conjunto de testes\n",
        "print(\"Valores faltantes em y_test:\", y_test.isnull().sum())\n",
        "\n",
        "# f. Verificar a distribuição das previsões\n",
        "print(\"Distribuição das previsões:\\n\", y_pred_labels.value_counts())\n",
        "\n",
        "# g. Plotar matriz de confusão\n",
        "cm = confusion_matrix(y_test_labels, y_pred_labels, labels=valid_labels)\n",
        "disp = ConfusionMatrixDisplay(confusion_matrix=cm, display_labels=valid_labels)\n",
        "disp.plot(cmap='Blues', values_format='.0f')\n",
        "\n",
        "# h. Printar métricas\n",
        "accuracy = accuracy_score(y_test_labels, y_pred_labels)\n",
        "precision = precision_score(y_test_labels, y_pred_labels, pos_label='Yes', zero_division=1)\n",
        "recall = recall_score(y_test_labels, y_pred_labels, pos_label='Yes', zero_division=1)\n",
        "f1 = f1_score(y_test_labels, y_pred_labels, pos_label='Yes', zero_division=1)\n",
        "\n",
        "print(\"Melhores parâmetros encontrados pelo Grid Search:\", best_params)\n",
        "print(\"Acurácia:\", accuracy)\n",
        "print(\"Precisão:\", precision)\n",
        "print(\"Recall:\", recall)\n",
        "print(\"F1-score:\", f1)"
      ],
      "metadata": {
        "colab": {
          "base_uri": "https://localhost:8080/",
          "height": 683
        },
        "id": "vpHakNQxDWf4",
        "outputId": "fe3ad978-c104-469e-dcd3-e3369acfa0e7"
      },
      "execution_count": null,
      "outputs": [
        {
          "output_type": "stream",
          "name": "stdout",
          "text": [
            "Valores faltantes em y_test: 0\n",
            "Distribuição das previsões:\n",
            " Series([], dtype: int64)\n",
            "Melhores parâmetros encontrados pelo Grid Search: {'bootstrap': True, 'ccp_alpha': 0.0, 'class_weight': None, 'criterion': 'gini', 'max_depth': None, 'max_features': 'sqrt', 'max_leaf_nodes': None, 'max_samples': None, 'min_impurity_decrease': 0.0, 'min_samples_leaf': 1, 'min_samples_split': 5, 'min_weight_fraction_leaf': 0.0, 'n_estimators': 50, 'n_jobs': None, 'oob_score': False, 'random_state': 42, 'verbose': 0, 'warm_start': False}\n",
            "Acurácia: nan\n",
            "Precisão: 1.0\n",
            "Recall: 1.0\n",
            "F1-score: 1.0\n"
          ]
        },
        {
          "output_type": "stream",
          "name": "stderr",
          "text": [
            "/usr/local/lib/python3.10/dist-packages/numpy/lib/function_base.py:495: RuntimeWarning: Mean of empty slice.\n",
            "  avg = a.mean(axis)\n",
            "/usr/local/lib/python3.10/dist-packages/numpy/core/_methods.py:189: RuntimeWarning: invalid value encountered in double_scalars\n",
            "  ret = ret.dtype.type(ret / rcount)\n"
          ]
        },
        {
          "output_type": "display_data",
          "data": {
            "text/plain": [
              "<Figure size 640x480 with 2 Axes>"
            ],
            "image/png": "[encoded data removed]"
          },
          "metadata": {}
        }
      ]
    }
  ]
}