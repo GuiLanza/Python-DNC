{
  "nbformat": 4,
  "nbformat_minor": 0,
  "metadata": {
    "colab": {
      "provenance": [],
      "authorship_tag": "ABX9TyMkgL952+IvSsyObX9FFz9c",
      "include_colab_link": true
    },
    "kernelspec": {
      "name": "python3",
      "display_name": "Python 3"
    },
    "language_info": {
      "name": "python"
    }
  },
  "cells": [
    {
      "cell_type": "markdown",
      "metadata": {
        "id": "view-in-github",
        "colab_type": "text"
      },
      "source": [
        "<a href=\"https://colab.research.google.com/github/GuiLanza/Python-DNC/blob/main/DNCFinal.ipynb\" target=\"_parent\"><img src=\"https://colab.research.google.com/assets/colab-badge.svg\" alt=\"Open In Colab\"/></a>"
      ]
    },
    {
      "cell_type": "code",
      "execution_count": null,
      "metadata": {
        "colab": {
          "base_uri": "https://localhost:8080/"
        },
        "id": "rHzqGUSOhtNI",
        "outputId": "8e9b1e97-5c7b-46cc-ae97-3fc036b31716"
      },
      "outputs": [
        {
          "output_type": "stream",
          "name": "stdout",
          "text": [
            "Requirement already satisfied: pandas in /usr/local/lib/python3.10/dist-packages (1.5.3)\n",
            "Requirement already satisfied: python-dateutil>=2.8.1 in /usr/local/lib/python3.10/dist-packages (from pandas) (2.8.2)\n",
            "Requirement already satisfied: pytz>=2020.1 in /usr/local/lib/python3.10/dist-packages (from pandas) (2023.3.post1)\n",
            "Requirement already satisfied: numpy>=1.21.0 in /usr/local/lib/python3.10/dist-packages (from pandas) (1.23.5)\n",
            "Requirement already satisfied: six>=1.5 in /usr/local/lib/python3.10/dist-packages (from python-dateutil>=2.8.1->pandas) (1.16.0)\n"
          ]
        }
      ],
      "source": [
        "# Instalando as bibliotecas necessárias\n",
        "!pip install pandas\n",
        "import seaborn as sns\n",
        "import pandas as pd\n",
        "import matplotlib.pyplot as plt\n",
        "from sklearn.model_selection import train_test_split, GridSearchCV\n",
        "from sklearn.linear_model import LinearRegression\n",
        "from sklearn.linear_model import LogisticRegression\n",
        "from sklearn.preprocessing import LabelEncoder, MinMaxScaler, StandardScaler\n",
        "from sklearn.metrics import confusion_matrix, accuracy_score, precision_score, recall_score, f1_score, ConfusionMatrixDisplay, silhouette_score\n",
        "from sklearn.ensemble import RandomForestClassifier\n",
        "from sklearn.cluster import KMeans"
      ]
    },
    {
      "cell_type": "code",
      "source": [
        "# Definindo o caminho do arquivo CSV\n",
        "caminho_arquivo = '/content/data.csv'\n",
        "\n",
        "# Especificando a codificação do arquivo (pode variar)\n",
        "codificacao = 'latin-1'\n",
        "\n",
        "# Carregando o arquivo CSV usando a codificação especificada\n",
        "data = pd.read_csv(caminho_arquivo, encoding=codificacao)\n"
      ],
      "metadata": {
        "id": "Sv4cwuLrjO_F"
      },
      "execution_count": null,
      "outputs": []
    },
    {
      "cell_type": "code",
      "source": [
        "# Visualizando os tipos de dados das colunas\n",
        "print(data.dtypes)"
      ],
      "metadata": {
        "colab": {
          "base_uri": "https://localhost:8080/"
        },
        "id": "pawRtrq0tWKH",
        "outputId": "657eba78-40a7-4731-c93b-fa68a870c59e"
      },
      "execution_count": null,
      "outputs": [
        {
          "output_type": "stream",
          "name": "stdout",
          "text": [
            "InvoiceNo       object\n",
            "StockCode       object\n",
            "Description     object\n",
            "Quantity         int64\n",
            "InvoiceDate     object\n",
            "UnitPrice      float64\n",
            "CustomerID     float64\n",
            "Country         object\n",
            "dtype: object\n"
          ]
        }
      ]
    },
    {
      "cell_type": "code",
      "source": [
        "# Convertendo a coluna 'InvoiceDate' em um formato de data\n",
        "data['InvoiceDate'] = pd.to_datetime(data['InvoiceDate'])"
      ],
      "metadata": {
        "id": "8744bp9htZKU"
      },
      "execution_count": null,
      "outputs": []
    },
    {
      "cell_type": "code",
      "source": [
        "# Realizando uma descrição estatística dos dados\n",
        "print(data.describe())"
      ],
      "metadata": {
        "colab": {
          "base_uri": "https://localhost:8080/"
        },
        "id": "QH60XYnsl8Sw",
        "outputId": "4f0d70cc-84a0-43aa-eb41-807850c20525"
      },
      "execution_count": null,
      "outputs": [
        {
          "output_type": "stream",
          "name": "stdout",
          "text": [
            "            Quantity      UnitPrice     CustomerID\n",
            "count  541909.000000  541909.000000  406829.000000\n",
            "mean        9.552250       4.611114   15287.690570\n",
            "std       218.081158      96.759853    1713.600303\n",
            "min    -80995.000000  -11062.060000   12346.000000\n",
            "25%         1.000000       1.250000   13953.000000\n",
            "50%         3.000000       2.080000   15152.000000\n",
            "75%        10.000000       4.130000   16791.000000\n",
            "max     80995.000000   38970.000000   18287.000000\n"
          ]
        }
      ]
    },
    {
      "cell_type": "code",
      "source": [
        "# Filtrando dados para remover valores negativos em 'Quantity' e 'UnitPrice'\n",
        "data = data[data['Quantity'] > 0]\n",
        "data = data[data['UnitPrice'] > 0]"
      ],
      "metadata": {
        "id": "mA1Pa6yqmrCY"
      },
      "execution_count": null,
      "outputs": []
    },
    {
      "cell_type": "code",
      "source": [
        "# Descrição estatística após a filtragem\n",
        "print(data.describe())"
      ],
      "metadata": {
        "colab": {
          "base_uri": "https://localhost:8080/"
        },
        "id": "VaMurLP2myXM",
        "outputId": "a1645b41-3c10-4956-c331-4b084453c729"
      },
      "execution_count": null,
      "outputs": [
        {
          "output_type": "stream",
          "name": "stdout",
          "text": [
            "            Quantity      UnitPrice     CustomerID\n",
            "count  530104.000000  530104.000000  397884.000000\n",
            "mean       10.542037       3.907625   15294.423453\n",
            "std       155.524124      35.915681    1713.141560\n",
            "min         1.000000       0.001000   12346.000000\n",
            "25%         1.000000       1.250000   13969.000000\n",
            "50%         3.000000       2.080000   15159.000000\n",
            "75%        10.000000       4.130000   16795.000000\n",
            "max     80995.000000   13541.330000   18287.000000\n"
          ]
        }
      ]
    },
    {
      "cell_type": "code",
      "source": [
        "# Padronizando as variáveis 'Quantity' e 'UnitPrice'\n",
        "scaler = StandardScaler()\n",
        "data[['Quantity', 'UnitPrice']] = scaler.fit_transform(data[['Quantity', 'UnitPrice']])"
      ],
      "metadata": {
        "id": "YCjqOCnRn78a"
      },
      "execution_count": null,
      "outputs": []
    },
    {
      "cell_type": "code",
      "source": [
        "# Removendo linhas duplicadas\n",
        "data.drop_duplicates(inplace=True)  # Remove linhas duplicadas"
      ],
      "metadata": {
        "id": "Q8sR10_CpX92"
      },
      "execution_count": null,
      "outputs": []
    },
    {
      "cell_type": "code",
      "source": [
        "# Visualizando os dados das colunas\n",
        "print(data)"
      ],
      "metadata": {
        "colab": {
          "base_uri": "https://localhost:8080/"
        },
        "id": "rxRUBEO8pKau",
        "outputId": "97d471d6-071f-412d-e8de-5445ad4bdff0"
      },
      "execution_count": null,
      "outputs": [
        {
          "output_type": "stream",
          "name": "stdout",
          "text": [
            "       InvoiceNo StockCode                          Description  Quantity  \\\n",
            "0         536365    85123A   WHITE HANGING HEART T-LIGHT HOLDER -0.029205   \n",
            "1         536365     71053                  WHITE METAL LANTERN -0.029205   \n",
            "2         536365    84406B       CREAM CUPID HEARTS COAT HANGER -0.016345   \n",
            "3         536365    84029G  KNITTED UNION FLAG HOT WATER BOTTLE -0.029205   \n",
            "4         536365    84029E       RED WOOLLY HOTTIE WHITE HEART. -0.029205   \n",
            "...          ...       ...                                  ...       ...   \n",
            "541904    581587     22613          PACK OF 20 SPACEBOY NAPKINS  0.009375   \n",
            "541905    581587     22899         CHILDREN'S APRON DOLLY GIRL  -0.029205   \n",
            "541906    581587     23254        CHILDRENS CUTLERY DOLLY GIRL  -0.042064   \n",
            "541907    581587     23255      CHILDRENS CUTLERY CIRCUS PARADE -0.042064   \n",
            "541908    581587     22138        BAKING SET 9 PIECE RETROSPOT  -0.048494   \n",
            "\n",
            "               InvoiceDate  UnitPrice  CustomerID         Country  \n",
            "0      2010-12-01 08:26:00  -0.037800     17850.0  United Kingdom  \n",
            "1      2010-12-01 08:26:00  -0.014412     17850.0  United Kingdom  \n",
            "2      2010-12-01 08:26:00  -0.032232     17850.0  United Kingdom  \n",
            "3      2010-12-01 08:26:00  -0.014412     17850.0  United Kingdom  \n",
            "4      2010-12-01 08:26:00  -0.014412     17850.0  United Kingdom  \n",
            "...                    ...        ...         ...             ...  \n",
            "541904 2011-12-09 12:50:00  -0.085134     12680.0          France  \n",
            "541905 2011-12-09 12:50:00  -0.050330     12680.0          France  \n",
            "541906 2011-12-09 12:50:00   0.006748     12680.0          France  \n",
            "541907 2011-12-09 12:50:00   0.006748     12680.0          France  \n",
            "541908 2011-12-09 12:50:00   0.029023     12680.0          France  \n",
            "\n",
            "[524878 rows x 8 columns]\n"
          ]
        }
      ]
    },
    {
      "cell_type": "code",
      "source": [
        "# Verificando valores nulos\n",
        "print(data.isnull().sum())"
      ],
      "metadata": {
        "colab": {
          "base_uri": "https://localhost:8080/"
        },
        "id": "zPbCk66_p34E",
        "outputId": "77390acc-7d7e-488f-fd70-6978a6acb980"
      },
      "execution_count": null,
      "outputs": [
        {
          "output_type": "stream",
          "name": "stdout",
          "text": [
            "InvoiceNo           0\n",
            "StockCode           0\n",
            "Description         0\n",
            "Quantity            0\n",
            "InvoiceDate         0\n",
            "UnitPrice           0\n",
            "CustomerID     132186\n",
            "Country             0\n",
            "dtype: int64\n"
          ]
        }
      ]
    },
    {
      "cell_type": "code",
      "source": [
        "# Removendo linhas duplicadas\n",
        "data.dropna(inplace=True)\n",
        "\n",
        "# Verificando valores nulos\n",
        "print(data.isnull().sum())"
      ],
      "metadata": {
        "colab": {
          "base_uri": "https://localhost:8080/"
        },
        "id": "gSzR2N5MqNQC",
        "outputId": "17cefcbd-2104-4ac1-af1d-ee70073f6627"
      },
      "execution_count": null,
      "outputs": [
        {
          "output_type": "stream",
          "name": "stdout",
          "text": [
            "InvoiceNo      0\n",
            "StockCode      0\n",
            "Description    0\n",
            "Quantity       0\n",
            "InvoiceDate    0\n",
            "UnitPrice      0\n",
            "CustomerID     0\n",
            "Country        0\n",
            "dtype: int64\n"
          ]
        }
      ]
    },
    {
      "cell_type": "code",
      "source": [
        "# Visualizando um boxplot de 'UnitPrice'\n",
        "sns.boxplot(x=data['UnitPrice'])\n",
        "plt.xlabel('UnitPrice')\n",
        "plt.title('Boxplot de UnitPrice')\n",
        "plt.show()"
      ],
      "metadata": {
        "colab": {
          "base_uri": "https://localhost:8080/",
          "height": 472
        },
        "id": "5ta2f472rASp",
        "outputId": "02b0562d-ae32-4937-8f51-76c4371a6225"
      },
      "execution_count": null,
      "outputs": [
        {
          "output_type": "display_data",
          "data": {
            "text/plain": [
              "<Figure size 640x480 with 1 Axes>"
            ],
            "image/png": "[encoded data removed]"
          },
          "metadata": {}
        }
      ]
    },
    {
      "cell_type": "code",
      "source": [
        "# Realizando uma descrição estatística dos dados\n",
        "print(data.describe())"
      ],
      "metadata": {
        "colab": {
          "base_uri": "https://localhost:8080/"
        },
        "id": "OHIJ5lUsrj0U",
        "outputId": "98ed0dee-00ba-4688-8506-f0022aff1d10"
      },
      "execution_count": null,
      "outputs": [
        {
          "output_type": "stream",
          "name": "stdout",
          "text": [
            "          Quantity    UnitPrice    CustomerID\n",
            "count  3498.000000  3498.000000   3498.000000\n",
            "mean      0.035278     0.032911  15073.685535\n",
            "std       0.031693     0.025832   1717.837916\n",
            "min       0.002945     0.000066  12347.000000\n",
            "25%       0.009375     0.009533  13694.000000\n",
            "50%       0.009375     0.029023  14911.000000\n",
            "75%       0.060814     0.056866  16621.750000\n",
            "max       0.099393     0.100023  18259.000000\n"
          ]
        }
      ]
    },
    {
      "cell_type": "code",
      "source": [
        "# Visualizando os dados das colunas\n",
        "print(data)"
      ],
      "metadata": {
        "colab": {
          "base_uri": "https://localhost:8080/"
        },
        "id": "n2uc5cbPsHT8",
        "outputId": "0aee1aa0-6fb7-49a3-b2b3-48bccbef8be9"
      },
      "execution_count": null,
      "outputs": [
        {
          "output_type": "stream",
          "name": "stdout",
          "text": [
            "       InvoiceNo StockCode                          Description  Quantity  \\\n",
            "106       536381     22139     RETROSPOT TEA SET CERAMIC 11 PC   0.080103   \n",
            "150       536382     22926       IVORY GIANT GARDEN THERMOMETER  0.009375   \n",
            "223       536390     21533             RETROSPOT LARGE MILK JUG  0.009375   \n",
            "229       536390     21485     RETROSPOT HEART HOT WATER BOTTLE  0.086533   \n",
            "258       536394     21485     RETROSPOT HEART HOT WATER BOTTLE  0.009375   \n",
            "...          ...       ...                                  ...       ...   \n",
            "540445    581488     22179              SET 10 NIGHT OWL LIGHTS  0.086533   \n",
            "541217    581495     23535              WALL ART BICYCLE SAFETY  0.009375   \n",
            "541549    581501     22165  DIAMANTE HEART SHAPED WALL MIRROR,   0.009375   \n",
            "541775    581578     23255      CHILDRENS CUTLERY CIRCUS PARADE  0.009375   \n",
            "541827    581579     23313            VINTAGE CHRISTMAS BUNTING  0.028664   \n",
            "\n",
            "               InvoiceDate  UnitPrice  CustomerID         Country  \n",
            "106    2010-12-01 09:41:00   0.009533     15311.0  United Kingdom  \n",
            "150    2010-12-01 09:45:00   0.056866     16098.0  United Kingdom  \n",
            "223    2010-12-01 10:19:00   0.009533     17511.0  United Kingdom  \n",
            "229    2010-12-01 10:19:00   0.009533     17511.0  United Kingdom  \n",
            "258    2010-12-01 10:39:00   0.029023     13408.0  United Kingdom  \n",
            "...                    ...        ...         ...             ...  \n",
            "540445 2011-12-09 09:45:00   0.056866     17428.0  United Kingdom  \n",
            "541217 2011-12-09 10:20:00   0.056866     14051.0  United Kingdom  \n",
            "541549 2011-12-09 10:46:00   0.001180     12985.0  United Kingdom  \n",
            "541775 2011-12-09 12:16:00   0.006748     12713.0         Germany  \n",
            "541827 2011-12-09 12:19:00   0.029023     17581.0  United Kingdom  \n",
            "\n",
            "[3498 rows x 8 columns]\n"
          ]
        }
      ]
    },
    {
      "cell_type": "code",
      "source": [
        "# Calculando o IQR e remova valores discrepantes em 'Quantity'\n",
        "Q1 = data['Quantity'].quantile(0.25)\n",
        "Q3 = data['Quantity'].quantile(0.75)\n",
        "IQR = Q3 - Q1\n",
        "\n",
        "lower_bound = Q1 - 1.5 * IQR\n",
        "upper_bound = Q3 + 1.5 * IQR\n",
        "\n",
        "data = data[(data['Quantity'] >= lower_bound) & (data['Quantity'] <= upper_bound)]\n",
        "\n",
        "# Calculando o IQR e remova valores discrepantes em 'UnitPrice'\n",
        "Q1 = data['UnitPrice'].quantile(0.25)\n",
        "Q3 = data['UnitPrice'].quantile(0.75)\n",
        "IQR = Q3 - Q1\n",
        "\n",
        "lower_bound = Q1 - 1.5 * IQR\n",
        "upper_bound = Q3 + 1.5 * IQR\n",
        "data = data[(data['UnitPrice'] >= lower_bound) & (data['UnitPrice'] <= upper_bound)]"
      ],
      "metadata": {
        "id": "Z07rys4ps11q"
      },
      "execution_count": null,
      "outputs": []
    },
    {
      "cell_type": "code",
      "source": [
        "# Realizando uma descrição estatística dos dados\n",
        "print(data.describe())"
      ],
      "metadata": {
        "colab": {
          "base_uri": "https://localhost:8080/"
        },
        "id": "FA3IZhZ9tGSz",
        "outputId": "6d5c0249-f541-4184-a1b4-3df969af758c"
      },
      "execution_count": null,
      "outputs": [
        {
          "output_type": "stream",
          "name": "stdout",
          "text": [
            "          Quantity    UnitPrice    CustomerID\n",
            "count  3498.000000  3498.000000   3498.000000\n",
            "mean      0.035278     0.032911  15073.685535\n",
            "std       0.031693     0.025832   1717.837916\n",
            "min       0.002945     0.000066  12347.000000\n",
            "25%       0.009375     0.009533  13694.000000\n",
            "50%       0.009375     0.029023  14911.000000\n",
            "75%       0.060814     0.056866  16621.750000\n",
            "max       0.099393     0.100023  18259.000000\n"
          ]
        }
      ]
    },
    {
      "cell_type": "code",
      "source": [
        "# Removendo colunas 'StockCode' e 'Description'\n",
        "if 'StockCode' in data.columns:\n",
        "    data = data.drop(['StockCode'], axis=1)\n",
        "data = data.drop(['Description'], axis=1)"
      ],
      "metadata": {
        "id": "OGed5JgHwhi5"
      },
      "execution_count": null,
      "outputs": []
    },
    {
      "cell_type": "code",
      "source": [
        "# Convertendo a coluna 'InvoiceDate' para representar dias desde a data mínima\n",
        "data['InvoiceDate'] = pd.to_datetime(data['InvoiceDate'])\n",
        "\n",
        "min_date = data['InvoiceDate'].min()\n",
        "\n",
        "\n",
        "data['InvoiceDate'] = (data['InvoiceDate'] - min_date).dt.days\n"
      ],
      "metadata": {
        "id": "bIrxKpgVxuMi"
      },
      "execution_count": null,
      "outputs": []
    },
    {
      "cell_type": "code",
      "source": [
        "# Criando variáveis dummy para a coluna 'Country'\n",
        "data = pd.get_dummies(data, columns=['Country'], prefix=['Country'])"
      ],
      "metadata": {
        "id": "Eqnj0UAkx9JM"
      },
      "execution_count": null,
      "outputs": []
    },
    {
      "cell_type": "code",
      "source": [
        "# Clusterização usando K-Means\n",
        "k = 3\n",
        "\n",
        "\n",
        "kmeans = KMeans(n_clusters=k)\n",
        "\n",
        "kmeans.fit(data)\n",
        "\n",
        "\n",
        "data['Cluster'] = kmeans.labels_"
      ],
      "metadata": {
        "colab": {
          "base_uri": "https://localhost:8080/"
        },
        "id": "kciV5zzktTsI",
        "outputId": "ae440627-0278-4d40-89df-c5ef40426316"
      },
      "execution_count": null,
      "outputs": [
        {
          "output_type": "stream",
          "name": "stderr",
          "text": [
            "/usr/local/lib/python3.10/dist-packages/sklearn/cluster/_kmeans.py:870: FutureWarning: The default value of `n_init` will change from 10 to 'auto' in 1.4. Set the value of `n_init` explicitly to suppress the warning\n",
            "  warnings.warn(\n"
          ]
        }
      ]
    },
    {
      "cell_type": "code",
      "source": [
        "# Método do cotovelo para determinar o número de clusters\n",
        "inertia = []\n",
        "for k in range(1, 11):\n",
        "    kmeans = KMeans(n_clusters=k, random_state=42)\n",
        "    kmeans.fit(data)\n",
        "    inertia.append(kmeans.inertia_)\n",
        "\n",
        "plt.figure(figsize=(8, 6))\n",
        "plt.plot(range(1, 11), inertia, marker='o', linestyle='--')\n",
        "plt.xlabel('Número de Clusters (k)')\n",
        "plt.ylabel('Inércia')\n",
        "plt.title('Método do Cotovelo (Elbow Method)')\n",
        "plt.grid(True)\n",
        "plt.show()"
      ],
      "metadata": {
        "colab": {
          "base_uri": "https://localhost:8080/",
          "height": 902
        },
        "id": "RTtFw8ISxrAK",
        "outputId": "eb188ee3-1aef-4b7f-91ef-d7ad16e1bac7"
      },
      "execution_count": null,
      "outputs": [
        {
          "output_type": "stream",
          "name": "stderr",
          "text": [
            "/usr/local/lib/python3.10/dist-packages/sklearn/cluster/_kmeans.py:870: FutureWarning: The default value of `n_init` will change from 10 to 'auto' in 1.4. Set the value of `n_init` explicitly to suppress the warning\n",
            "  warnings.warn(\n",
            "/usr/local/lib/python3.10/dist-packages/sklearn/cluster/_kmeans.py:870: FutureWarning: The default value of `n_init` will change from 10 to 'auto' in 1.4. Set the value of `n_init` explicitly to suppress the warning\n",
            "  warnings.warn(\n",
            "/usr/local/lib/python3.10/dist-packages/sklearn/cluster/_kmeans.py:870: FutureWarning: The default value of `n_init` will change from 10 to 'auto' in 1.4. Set the value of `n_init` explicitly to suppress the warning\n",
            "  warnings.warn(\n",
            "/usr/local/lib/python3.10/dist-packages/sklearn/cluster/_kmeans.py:870: FutureWarning: The default value of `n_init` will change from 10 to 'auto' in 1.4. Set the value of `n_init` explicitly to suppress the warning\n",
            "  warnings.warn(\n",
            "/usr/local/lib/python3.10/dist-packages/sklearn/cluster/_kmeans.py:870: FutureWarning: The default value of `n_init` will change from 10 to 'auto' in 1.4. Set the value of `n_init` explicitly to suppress the warning\n",
            "  warnings.warn(\n",
            "/usr/local/lib/python3.10/dist-packages/sklearn/cluster/_kmeans.py:870: FutureWarning: The default value of `n_init` will change from 10 to 'auto' in 1.4. Set the value of `n_init` explicitly to suppress the warning\n",
            "  warnings.warn(\n",
            "/usr/local/lib/python3.10/dist-packages/sklearn/cluster/_kmeans.py:870: FutureWarning: The default value of `n_init` will change from 10 to 'auto' in 1.4. Set the value of `n_init` explicitly to suppress the warning\n",
            "  warnings.warn(\n",
            "/usr/local/lib/python3.10/dist-packages/sklearn/cluster/_kmeans.py:870: FutureWarning: The default value of `n_init` will change from 10 to 'auto' in 1.4. Set the value of `n_init` explicitly to suppress the warning\n",
            "  warnings.warn(\n",
            "/usr/local/lib/python3.10/dist-packages/sklearn/cluster/_kmeans.py:870: FutureWarning: The default value of `n_init` will change from 10 to 'auto' in 1.4. Set the value of `n_init` explicitly to suppress the warning\n",
            "  warnings.warn(\n",
            "/usr/local/lib/python3.10/dist-packages/sklearn/cluster/_kmeans.py:870: FutureWarning: The default value of `n_init` will change from 10 to 'auto' in 1.4. Set the value of `n_init` explicitly to suppress the warning\n",
            "  warnings.warn(\n"
          ]
        },
        {
          "output_type": "display_data",
          "data": {
            "text/plain": [
              "<Figure size 800x600 with 1 Axes>"
            ],
            "image/png": "[encoded data removed]"
          },
          "metadata": {}
        }
      ]
    },
    {
      "cell_type": "code",
      "source": [
        "# Atribuindo os rótulos dos clusters aos dados\n",
        "data['Cluster'] = kmeans.labels_\n",
        "\n",
        "# Plotando um gráfico de dispersão dos clusters\n",
        "plt.scatter(data['Quantity'], data['UnitPrice'], c=data['Cluster'], cmap='rainbow')\n",
        "plt.xlabel('Quantity')\n",
        "plt.ylabel('UnitPrice')\n",
        "plt.title('Distribuição dos Clusters')\n",
        "plt.show()"
      ],
      "metadata": {
        "colab": {
          "base_uri": "https://localhost:8080/",
          "height": 472
        },
        "id": "nV1vrYGHzHCq",
        "outputId": "6eda59ed-deb3-4c4b-82dd-9c904090c030"
      },
      "execution_count": null,
      "outputs": [
        {
          "output_type": "display_data",
          "data": {
            "text/plain": [
              "<Figure size 640x480 with 1 Axes>"
            ],
            "image/png": "[encoded data removed]"
          },
          "metadata": {}
        }
      ]
    },
    {
      "cell_type": "code",
      "source": [
        "# Calculando as médias de 'Quantity' e 'UnitPrice' por cluster\n",
        "cluster_profiles = data.groupby('Cluster')[['Quantity', 'UnitPrice']].mean()\n",
        "print(cluster_profiles)\n"
      ],
      "metadata": {
        "colab": {
          "base_uri": "https://localhost:8080/"
        },
        "id": "zYYoh6HOz8KJ",
        "outputId": "7bf4ca7a-bf83-442a-c9e2-c5f3f08e68e0"
      },
      "execution_count": null,
      "outputs": [
        {
          "output_type": "stream",
          "name": "stdout",
          "text": [
            "         Quantity  UnitPrice\n",
            "Cluster                     \n",
            "0        0.031263   0.036339\n",
            "1        0.032532   0.032597\n",
            "2        0.036092   0.036299\n",
            "3        0.036854   0.029558\n",
            "4        0.033730   0.036931\n",
            "5        0.036480   0.030017\n",
            "6        0.030745   0.033941\n",
            "7        0.031709   0.037010\n",
            "8        0.039529   0.030531\n",
            "9        0.040984   0.029242\n"
          ]
        }
      ]
    },
    {
      "cell_type": "code",
      "source": [
        "# Justificação das decisões:\n",
        "# - Escolhi manter 'Quantity' e 'UnitPrice' porque são relevantes para análise de segmentação de clientes.\n",
        "# - Removi 'StockCode' e 'Description' porque não contribuíam para a análise de clusters.\n",
        "# - Escalei as variáveis 'Quantity' e 'UnitPrice' para que tenham a mesma importância na clusterização.\n",
        "# - Usei o algoritmo K-Means com k=3 clusters, com base no método do cotovelo, para segmentar os clientes.\n",
        "# - As ações sugeridas com base na análise incluem estratégias de marketing direcionadas a cada grupo de clientes, como preços diferenciados ou campanhas personalizadas.\n"
      ],
      "metadata": {
        "id": "32i16Jui7SB7"
      },
      "execution_count": null,
      "outputs": []
    }
  ]
}